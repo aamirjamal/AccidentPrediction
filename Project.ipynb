{
 "cells": [
  {
   "cell_type": "code",
   "execution_count": 1,
   "metadata": {},
   "outputs": [
    {
     "name": "stderr",
     "output_type": "stream",
     "text": [
      "Using TensorFlow backend.\n"
     ]
    }
   ],
   "source": [
    "# Import all the libs \n",
    "import numpy as np\n",
    "import os\n",
    "import re\n",
    "import pickle\n",
    "import timeit\n",
    "import glob\n",
    "import cv2\n",
    "\n",
    "from skimage import transform\n",
    "import skimage\n",
    "from skimage import io\n",
    "\n",
    "import sklearn\n",
    "from sklearn.model_selection import train_test_split   ### import sklearn tool\n",
    "\n",
    "import keras\n",
    "from keras.preprocessing import image as image_utils\n",
    "from keras.callbacks import ModelCheckpoint\n",
    "\n",
    "from skimage import io\n"
   ]
  },
  {
   "cell_type": "code",
   "execution_count": 4,
   "metadata": {
    "pycharm": {
     "name": "#%%\n"
    }
   },
   "outputs": [
    {
     "name": "stdout",
     "output_type": "stream",
     "text": [
      "306\n"
     ]
    }
   ],
   "source": [
    "def load_dataset(path_to_video, total_frames):\n",
    "    # Capture a video\n",
    "    vidcap = cv2.VideoCapture(path_to_video)\n",
    "    # Check if video frame is read correctly\n",
    "    success,image = vidcap.read()\n",
    "    count = 0\n",
    "    img = []\n",
    "    # Read all frames of video iteratively\n",
    "    while success:    \n",
    "        success,image = vidcap.read()\n",
    "        img.append(image)\n",
    "        count += 1\n",
    "        if count == total_frames:\n",
    "            break\n",
    "    return img\n",
    "\n",
    "# img, count = load_dataset(\"Crash1500/000001.mp4\")\n",
    "# print(np.shape(img), count)\n",
    "all_frames = []\n",
    "f = open(\"Annotations.txt\", \"r\")\n",
    "lines = f.readlines()\n",
    "for line in lines[1:500]:\n",
    "#     print(line)\n",
    "    video_name = line[0:6]\n",
    "    y_labels = line[10:156].split(',')\n",
    "    y_labels = [int(i[1]) for i in y_labels ]\n",
    "    total_frames = len(y_labels)\n",
    "    x1 = line[159:].split(',')[2]\n",
    "    x2 = line[159:].split(',')[3]\n",
    "    is_ego = line[159:].split(',')[4]\n",
    "#     print(video_name, y_labels, x1, x2, is_ego)\n",
    "    if \"Yes\" in is_ego:\n",
    "        img = load_dataset(\"Crash1500/\"+video_name+\".mp4\", total_frames)\n",
    "        all_frames.append(img)\n",
    "print(len(all_frames))"
   ]
  },
  {
   "cell_type": "code",
   "execution_count": null,
   "metadata": {
    "pycharm": {
     "name": "#%%\n"
    }
   },
   "outputs": [],
   "source": []
  },
  {
   "cell_type": "code",
   "execution_count": null,
   "metadata": {
    "pycharm": {
     "name": "#%%\n"
    }
   },
   "outputs": [],
   "source": []
  },
  {
   "cell_type": "code",
   "execution_count": null,
   "metadata": {},
   "outputs": [],
   "source": []
  }
 ],
 "metadata": {
  "kernelspec": {
   "display_name": "Python 3",
   "language": "python",
   "name": "python3"
  },
  "language_info": {
   "codemirror_mode": {
    "name": "ipython",
    "version": 3
   },
   "file_extension": ".py",
   "mimetype": "text/x-python",
   "name": "python",
   "nbconvert_exporter": "python",
   "pygments_lexer": "ipython3",
   "version": "3.7.7"
  },
  "pycharm": {
   "stem_cell": {
    "cell_type": "raw",
    "metadata": {
     "collapsed": false
    },
    "source": []
   }
  }
 },
 "nbformat": 4,
 "nbformat_minor": 1
}
